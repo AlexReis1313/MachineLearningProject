{
  "nbformat": 4,
  "nbformat_minor": 0,
  "metadata": {
    "colab": {
      "provenance": [],
      "gpuType": "T4"
    },
    "kernelspec": {
      "name": "python3",
      "display_name": "Python 3"
    },
    "language_info": {
      "name": "python"
    },
    "accelerator": "GPU"
  },
  "cells": [
    {
      "cell_type": "code",
      "execution_count": null,
      "metadata": {
        "id": "RiKTy-tLUvmX"
      },
      "outputs": [],
      "source": [
        "from sklearn.model_selection import GridSearchCV, cross_val_score\n",
        "from sklearn.linear_model import LassoCV, Lasso\n",
        "from sklearn import linear_model\n",
        "import matplotlib.pyplot as plt\n",
        "import pandas as pd\n",
        "import numpy as np\n",
        "from math import *\n",
        "import warnings\n",
        "import os\n",
        "from sklearn import preprocessing\n",
        "from sklearn.model_selection import cross_validate\n",
        "from sklearn.metrics import r2_score\n",
        "warnings.filterwarnings(\"ignore\")\n",
        "import keras\n",
        "import torch\n",
        "from keras import *\n",
        "import random\n",
        "from sklearn.utils import shuffle\n",
        "from keras.callbacks import EarlyStopping\n",
        "from tensorflow.keras.callbacks import LearningRateScheduler\n",
        "from sklearn.metrics import confusion_matrix\n",
        "from sklearn.model_selection import train_test_split\n"
      ]
    },
    {
      "cell_type": "code",
      "source": [
        "from google.colab import drive\n",
        "drive.mount('/content/drive')"
      ],
      "metadata": {
        "id": "X_JtYSF5VOwb",
        "colab": {
          "base_uri": "https://localhost:8080/"
        },
        "outputId": "80414851-e147-470c-eb0f-059eb0264304"
      },
      "execution_count": null,
      "outputs": [
        {
          "output_type": "stream",
          "name": "stdout",
          "text": [
            "Mounted at /content/drive\n"
          ]
        }
      ]
    },
    {
      "cell_type": "code",
      "source": [
        "X_train = np.load(os.path.abspath('/content/drive/MyDrive/Machinelearning5.2/Xtrain_Classification2.npy'))\n",
        "y_train = np.load(os.path.abspath('/content/drive/MyDrive/Machinelearning5.2/ytrain_Classification2.npy'))\n",
        "X_test  = np.load(os.path.abspath('/content/drive/MyDrive/Machinelearning5.2/Xtest_Classification2.npy'))"
      ],
      "metadata": {
        "id": "nz9yU7DMVO4Y"
      },
      "execution_count": null,
      "outputs": []
    },
    {
      "cell_type": "code",
      "source": [
        "unique, counts = np.unique(y_train, return_counts=True)\n",
        "a = dict(zip(unique, counts))\n",
        "a"
      ],
      "metadata": {
        "colab": {
          "base_uri": "https://localhost:8080/"
        },
        "id": "vNCmwMkBTeg_",
        "outputId": "4fd2d5f6-8fe6-44b6-b431-62a97ce644db"
      },
      "execution_count": null,
      "outputs": [
        {
          "output_type": "execute_result",
          "data": {
            "text/plain": [
              "{0.0: 5362, 1.0: 890, 2.0: 116, 3.0: 2305, 4.0: 990, 5.0: 966}"
            ]
          },
          "metadata": {},
          "execution_count": 7
        }
      ]
    },
    {
      "cell_type": "code",
      "source": [
        "116*100/y_train.shape[0]"
      ],
      "metadata": {
        "colab": {
          "base_uri": "https://localhost:8080/"
        },
        "id": "ylpVT80RVYDz",
        "outputId": "f328f2b8-f57e-4804-b1b4-df8f5c59c3dd"
      },
      "execution_count": null,
      "outputs": [
        {
          "output_type": "execute_result",
          "data": {
            "text/plain": [
              "1.0913538432590084"
            ]
          },
          "metadata": {},
          "execution_count": 9
        }
      ]
    },
    {
      "cell_type": "code",
      "source": [
        "#metrics\n",
        "\n",
        "from keras import backend as k\n",
        "def onehot(y_onehot):\n",
        "    y = y_onehot[:,1]\n",
        "    return y\n",
        "\n",
        "def specificity_custom(y_pred_onehot, y_true_onehot):\n",
        "    y_pred, y_true = onehot(y_pred_onehot), onehot(y_true_onehot)\n",
        "    neg_y_true = 1 - y_true\n",
        "    neg_y_pred = 1 - y_pred\n",
        "    fp = k.sum(neg_y_true * y_pred)\n",
        "    tn = k.sum(neg_y_true * neg_y_pred)\n",
        "    return tn / (tn + fp)\n",
        "\n",
        "def sensitivity_custom(y_pred_onehot, y_true_onehot): #sensitivity=recall\n",
        "    y_pred, y_true = onehot(y_pred_onehot), onehot(y_true_onehot)\n",
        "    neg_y_pred = 1 - y_pred\n",
        "    fn = k.sum(neg_y_pred*y_true)\n",
        "    tp = k.sum(y_true*y_pred)\n",
        "    return tp / (tp + fn)\n",
        "\n",
        "def balanced_accuracy_custom(y_pred, y_true):\n",
        "    specificity_val = specificity_custom(y_pred, y_true)\n",
        "    sensitivity_val = sensitivity_custom(y_pred, y_true)\n",
        "    return (specificity_val + sensitivity_val)/2\n",
        "\n",
        "\n",
        "def precision_custom(y_pred_onehot, y_true_onehot):\n",
        "    y_pred, y_true = onehot(y_pred_onehot), onehot(y_true_onehot)\n",
        "    neg_y_true = 1 - y_true\n",
        "    fp = k.sum(neg_y_true * y_pred)\n",
        "    tp = k.sum(y_true*y_pred)\n",
        "    return tp / (tp + fp)\n",
        "\n",
        "def balanced_accuracy_enunciado(y_pred, y_true):\n",
        "    precision_val = precision_custom(y_pred, y_true)\n",
        "    recall_val = sensitivity_custom(y_pred, y_true)#sensitivity=recall\n",
        "    return (precision_val + recall_val)/2\n",
        "\n",
        "\n",
        "\n",
        "def learning_rate_scheduler_function(epoch, lr):\n",
        "    if epoch < 50:\n",
        "        return lr\n",
        "    else:\n",
        "        return lr * 0.95  # Adjust the rate as needed\n",
        "\n",
        "\n"
      ],
      "metadata": {
        "id": "J9RaHiTEVO9h"
      },
      "execution_count": null,
      "outputs": []
    },
    {
      "cell_type": "code",
      "source": [
        "class CustomCallback(keras.callbacks.Callback):\n",
        "    def on_epoch_end(self, epoch, logs=None):\n",
        "        if logs.get('val_balanced_accuracy_custom') >= 0.85:\n",
        "            self.model.stop_training = True\n",
        "\n",
        "from sklearn.utils import class_weight\n",
        "\n",
        "def weighted_balance(y_Data_hotencoded):\n",
        "    y_Data=np.argmax(y_Data_hotencoded,1).copy()\n",
        "    class_weights = class_weight.compute_class_weight(class_weight ='balanced', classes = np.unique(y_Data) ,y=np.reshape(y_Data, (y_Data.shape[0],)))\n",
        "    return dict(enumerate(class_weights))"
      ],
      "metadata": {
        "id": "zM0OLgPVVoR4"
      },
      "execution_count": null,
      "outputs": []
    },
    {
      "cell_type": "code",
      "source": [
        "def save_model (model_fitted, model_history, optimizer_string, loss_string ,epoch_nr,batch,best_balancedAccuracy ):\n",
        "\n",
        "    #define names for the files\n",
        "    file_name_model=f\"bestbacc_{best_balancedAccuracy}  {optimizer_string}  {loss_string}  Epoch_{epoch_nr}  Batch_{batch}  Model.keras\"\n",
        "    #model_path=Path(r'C:\\Users\\alexa\\OneDrive - Universidade de Lisboa\\4º Ano\\1º Semestre - MEEC\\Aprendizagem Automática\\Labs2\\ML_Aaut',file_name_model)\n",
        "    file_name_history=f\"bestbacc_{best_balancedAccuracy}  {optimizer_string}  {loss_string}  Epoch_{epoch_nr}  Batch_{batch}  History.npy\"\n",
        "    #history_path=Path(r'C:\\Users\\alexa\\OneDrive - Universidade de Lisboa\\4º Ano\\1º Semestre - MEEC\\Aprendizagem Automática\\Labs2\\ML_Aaut',file_name_history)\n",
        "\n",
        "    #save the model in a .keras file\n",
        "    model_fitted.save(file_name_model)\n",
        "    #save history to numpy array\n",
        "    np.save(file_name_history,model_history.history)\n",
        "\n"
      ],
      "metadata": {
        "id": "zFX3CV4aVoaY"
      },
      "execution_count": null,
      "outputs": []
    },
    {
      "cell_type": "code",
      "source": [
        "def plot_neuralmodel(model):\n",
        "    dtf = pd.DataFrame(model.history)\n",
        "    fig, (ax1, ax2) = plt.subplots(2, 1, figsize=(10,10))\n",
        "\n",
        "    fig.suptitle('Model Evaluation',)\n",
        "\n",
        "    best_bacc =round(max(dtf.iloc[:,8]),4)\n",
        "    #best_bacc =round((dtf.iloc[:,7]).nlargest().sum/5,4)\n",
        "\n",
        "\n",
        "    ax1.plot(dtf.iloc[:,8],'bo--',label=f'Validation Balanced Accuracy - best: {best_bacc} ')\n",
        "    ax1.plot(dtf.iloc[:,3],'go--',label=f'Train Balanced Accuracy')\n",
        "    ax1.legend()\n",
        "    ax1.set_xlabel('Epochs')\n",
        "\n",
        "    ax2.plot(dtf.iloc[:,5],'go--',label=f'Validation Loss')\n",
        "    ax2.plot(dtf.iloc[:,0],'ro--',label=f'Train Loss')\n",
        "    ax2.legend()\n",
        "    ax2.set_xlabel('Epochs')\n",
        "\n",
        "\n",
        "    plt.show()\n",
        "\n",
        "\n",
        "\n",
        "    f1_score = dtf.iloc[-1,9]\n",
        "    print('validation f1:', f1_score )\n",
        "\n",
        "\n",
        "    return best_bacc, f1_score"
      ],
      "metadata": {
        "id": "s7Q67QkGVodO"
      },
      "execution_count": null,
      "outputs": []
    },
    {
      "cell_type": "code",
      "source": [
        "#model 1\n",
        "def model_def1(optimizer_string, loss_string, nrclasses):\n",
        "    model_img= keras.Sequential()\n",
        "    model_img.add(layers.Conv2D(128, kernel_size=(3, 3), activation='relu', input_shape=(28,28,3),kernel_regularizer='l2'))\n",
        "    model_img.add(layers.BatchNormalization())\n",
        "    model_img.add(layers.Conv2D(64, kernel_size=(3, 3), activation='relu',kernel_regularizer='l2',padding=\"same\"))\n",
        "    model_img.add(layers.MaxPooling2D(pool_size=(2, 2)))\n",
        "    model_img.add(layers.Dropout(0.2))\n",
        "\n",
        "\n",
        "    model_img.add(layers.Flatten())\n",
        "    model_img.add(layers.Dropout(0.2))\n",
        "    model_img.add(layers.Dense(256, activation='relu',activity_regularizer='l2',bias_regularizer='l2'))\n",
        "    model_img.add(layers.Dense(nrclasses, activation='softmax'))\n",
        "\n",
        "    model_img.compile(\n",
        "            optimizer = optimizer_string,\n",
        "            loss = loss_string,\n",
        "            metrics=[specificity_custom, sensitivity_custom ,balanced_accuracy_custom,keras.metrics.F1Score() ]\n",
        "        )\n",
        "    return model_img"
      ],
      "metadata": {
        "id": "TLnO1Dh93f73"
      },
      "execution_count": null,
      "outputs": []
    },
    {
      "cell_type": "code",
      "source": [
        "#model 2\n",
        "def model_def2(optimizer_string, loss_string, nrclasses):\n",
        "    model_img= keras.Sequential()\n",
        "    model_img.add(layers.Conv2D(128, kernel_size=(3, 3), activation='relu', input_shape=(28,28,3),kernel_regularizer='l2'))\n",
        "    model_img.add(layers.BatchNormalization())\n",
        "    model_img.add(layers.Conv2D(64, kernel_size=(3, 3), activation='relu',kernel_regularizer='l2',padding=\"same\"))\n",
        "    model_img.add(layers.MaxPooling2D(pool_size=(2, 2)))\n",
        "    model_img.add(layers.Dropout(0.3))\n",
        "\n",
        "\n",
        "    model_img.add(layers.Flatten())\n",
        "    model_img.add(layers.Dropout(0.3))\n",
        "    model_img.add(layers.Dense(512, activation='relu',activity_regularizer='l2',bias_regularizer='l2'))\n",
        "    model_img.add(layers.Dense(nrclasses, activation='softmax'))\n",
        "\n",
        "    model_img.compile(\n",
        "            optimizer = optimizer_string,\n",
        "            loss = loss_string,\n",
        "            metrics=[specificity_custom, sensitivity_custom ,balanced_accuracy_custom,keras.metrics.F1Score() ]\n",
        "        )\n",
        "    return model_img\n"
      ],
      "metadata": {
        "id": "78ksxh3eHLbd"
      },
      "execution_count": null,
      "outputs": []
    },
    {
      "cell_type": "code",
      "source": [
        "#model 3\n",
        "def model_def3(optimizer_string, loss_string, nrclasses):\n",
        "    model_img= keras.Sequential()\n",
        "    model_img.add(layers.Conv2D(128, kernel_size=(3, 3), activation='relu', input_shape=(28,28,3),kernel_regularizer='l2'))\n",
        "    model_img.add(layers.BatchNormalization())\n",
        "    model_img.add(layers.Conv2D(64, kernel_size=(3, 3), activation='relu',kernel_regularizer='l2',padding=\"same\"))\n",
        "    model_img.add(layers.BatchNormalization())\n",
        "    model_img.add(layers.Conv2D(32, kernel_size=(3, 3), activation='relu',kernel_regularizer='l2',padding=\"same\"))\n",
        "    model_img.add(layers.MaxPooling2D(pool_size=(2, 2)))\n",
        "    model_img.add(layers.Dropout(0.3))\n",
        "\n",
        "\n",
        "    model_img.add(layers.Flatten())\n",
        "    model_img.add(layers.Dropout(0.3))\n",
        "    model_img.add(layers.Dense(256, activation='relu',activity_regularizer='l2',bias_regularizer='l2'))\n",
        "    model_img.add(layers.Dense(nrclasses, activation='softmax'))\n",
        "\n",
        "    model_img.compile(\n",
        "            optimizer = optimizer_string,\n",
        "            loss = loss_string,\n",
        "            metrics=[specificity_custom, sensitivity_custom ,balanced_accuracy_custom, keras.metrics.F1Score()]\n",
        "        )\n",
        "    return model_img"
      ],
      "metadata": {
        "id": "MyX_MN92KXBc"
      },
      "execution_count": null,
      "outputs": []
    },
    {
      "cell_type": "code",
      "source": [
        "#model 4\n",
        "def model_def4(optimizer_string, loss_string, nrclasses):\n",
        "    model_img= keras.Sequential()\n",
        "    model_img.add(layers.Conv2D(64, kernel_size=(3, 3), activation='relu', input_shape=(28,28,3),kernel_regularizer='l2'))\n",
        "    model_img.add(layers.BatchNormalization())\n",
        "    model_img.add(layers.Conv2D(64, kernel_size=(3, 3), activation='relu',kernel_regularizer='l2',padding=\"same\"))\n",
        "    model_img.add(layers.MaxPooling2D(pool_size=(2, 2)))\n",
        "    model_img.add(layers.Dropout(0.3))\n",
        "\n",
        "\n",
        "    model_img.add(layers.Flatten())\n",
        "    model_img.add(layers.Dropout(0.3))\n",
        "    model_img.add(layers.Dense(256, activation='relu',activity_regularizer='l2',bias_regularizer='l2'))\n",
        "    model_img.add(layers.Dense(nrclasses, activation='softmax'))\n",
        "\n",
        "    model_img.compile(\n",
        "            optimizer = optimizer_string,\n",
        "            loss = loss_string,\n",
        "            metrics=[specificity_custom, sensitivity_custom ,balanced_accuracy_custom,keras.metrics.F1Score() ]\n",
        "        )\n",
        "    return model_img\n"
      ],
      "metadata": {
        "id": "nPJwH5jBMPgI"
      },
      "execution_count": null,
      "outputs": []
    },
    {
      "cell_type": "code",
      "source": [
        "### Neural Network\n",
        "#equal to model def 1\n",
        "def model_def5(optimizer_string, loss_string, nrclasses):\n",
        "    model_img= keras.Sequential()\n",
        "    model_img.add(layers.Conv2D(128, kernel_size=(3, 3), activation='relu', input_shape=(28,28,3),kernel_regularizer='l2'))\n",
        "    model_img.add(layers.BatchNormalization())\n",
        "    model_img.add(layers.Conv2D(64, kernel_size=(3, 3), activation='relu',kernel_regularizer='l2',padding=\"same\"))\n",
        "    model_img.add(layers.MaxPooling2D(pool_size=(2, 2)))\n",
        "    model_img.add(layers.Dropout(0.2))\n",
        "\n",
        "\n",
        "    model_img.add(layers.Flatten())\n",
        "    model_img.add(layers.Dropout(0.5))\n",
        "    model_img.add(layers.Dense(256, activation='relu',activity_regularizer='l2',bias_regularizer='l2'))\n",
        "    model_img.add(layers.Dense(nrclasses, activation='softmax'))\n",
        "\n",
        "    model_img.compile(\n",
        "            optimizer = optimizer_string,\n",
        "            loss = loss_string,\n",
        "            metrics=[specificity_custom, sensitivity_custom ,balanced_accuracy_custom, keras.metrics.F1Score() ]\n",
        "        )\n",
        "    return model_img"
      ],
      "metadata": {
        "id": "NTl8JmWgo7qa"
      },
      "execution_count": null,
      "outputs": []
    },
    {
      "cell_type": "code",
      "source": [
        "\n",
        "\n",
        "def neural_defandTrain(optimizer_string, loss_string ,epoch_nr,batch, x_all, y_all,classweight_bool, nrclasses, i, x_val, y_val):\n",
        "\n",
        "    if i==1:\n",
        "      model = model_def1(optimizer_string, loss_string, nrclasses)\n",
        "    elif i==2:\n",
        "      model = model_def2(optimizer_string, loss_string, nrclasses)\n",
        "    elif i==3:\n",
        "      model = model_def3(optimizer_string, loss_string, nrclasses)\n",
        "    elif i==4:\n",
        "      model = model_def4(optimizer_string, loss_string, nrclasses)\n",
        "    elif i==5:\n",
        "      model = model_def5(optimizer_string, loss_string, nrclasses)\n",
        "\n",
        "    callback = CustomCallback()\n",
        "    lr_callback = LearningRateScheduler(learning_rate_scheduler_function)\n",
        "\n",
        "\n",
        "    if classweight_bool:\n",
        "        class_weights=weighted_balance(y_all)\n",
        "    else:\n",
        "        class_weights =None\n",
        "\n",
        "    model_history = model.fit(\n",
        "        x_all, y_all,\n",
        "        batch_size=batch,\n",
        "        epochs=epoch_nr,\n",
        "        validation_data=(x_val, y_val),\n",
        "        class_weight = class_weights, callbacks=[callback, lr_callback])\n",
        "\n",
        "\n",
        "    best_balancedAccuracy, f1_score = plot_neuralmodel(model_history)\n",
        "    #save_model(model, model_history, optimizer_string, loss_string ,epoch_nr,batch, best_balancedAccuracy)\n",
        "    return model, model_history, f1_score"
      ],
      "metadata": {
        "id": "Dv5X4a_pKJy3"
      },
      "execution_count": null,
      "outputs": []
    },
    {
      "cell_type": "markdown",
      "source": [
        "** **"
      ],
      "metadata": {
        "id": "3voyupsmbTNP"
      }
    },
    {
      "cell_type": "markdown",
      "source": [
        "**Running the 5 CNNs**"
      ],
      "metadata": {
        "id": "6AphXa7DXulJ"
      }
    },
    {
      "cell_type": "code",
      "source": [
        "from imblearn.over_sampling import RandomOverSampler\n",
        "import tensorflow as tf\n",
        "\n",
        "def data_balance_generator(Xtrain, train_labels, num_classes):\n",
        "    Xtrain = Xtrain.reshape(-1, 28, 28, 3) # Reshape the input data\n",
        "\n",
        "    train_labels = np.argmax(train_labels, axis=1) # Convert one-hot encoded labels to categorical labels (0 to num_classes-1)\n",
        "    train_labels = tf.cast(train_labels, dtype=tf.float32)\n",
        "\n",
        "    train_labels = keras.utils.to_categorical(train_labels, num_classes) # Reshape the labels back to one-hot encoding\n",
        "\n",
        "    # Use RandomOverSampler to balance the dataset\n",
        "    ros = RandomOverSampler(sampling_strategy='auto')\n",
        "    X_resampled, y_resampled = ros.fit_resample(Xtrain.reshape(-1, 28 * 28 * 3), train_labels)\n",
        "\n",
        "    X_resampled = X_resampled.reshape(-1, 28, 28, 3) # Reshape X_resampled back to its original shape\n",
        "\n",
        "    return X_resampled, y_resampled\n",
        "\n",
        "def usar_oversample(x,y):\n",
        "    # Use RandomOverSampler to balance the dataset\n",
        "    ros = RandomOverSampler(sampling_strategy='auto')\n",
        "    X_resampled, y_oversample = ros.fit_resample(x.reshape(x.shape[0], 28 * 28 * 3), y)\n",
        "\n",
        "    x_oversample = X_resampled.reshape(X_resampled.shape[0], 28, 28, 3) # Reshape X_resampled back to its original shape\n",
        "\n",
        "    return x_oversample, y_oversample\n",
        "def shuffle_data(x, y):\n",
        "    permutation = np.random.permutation(len(x))\n",
        "    x_shuffled = x[permutation]\n",
        "    y_shuffled = y[permutation]\n",
        "    return x_shuffled, y_shuffled\n",
        "def x_y_preprocessing(x,y, validation_size):\n",
        "    X_train_normalizado= x/255\n",
        "    x_shuffled, y_shuffled = shuffle_data(X_train_normalizado,y)\n",
        "    X_train, X_val, y_train, y_val = train_test_split(x_shuffled, y_shuffled, test_size=validation_size)\n",
        "\n",
        "    X_train_sample = np.reshape(X_train,(X_train.shape[0],28,28,3))\n",
        "    x_val_sample = np.reshape(X_val,(X_val.shape[0],28,28,3))\n",
        "\n",
        "    y_train_2labels = keras.utils.to_categorical(y_train, num_classes=6)\n",
        "    y_val_2labels = keras.utils.to_categorical(y_val, num_classes=6)\n",
        "    x_fds , yfds = data_balance_generator(X_train,y_train_2labels,6)\n",
        "    X_train_sample_over, y_train_2labels_over= shuffle_data(x_fds , yfds)\n",
        "\n",
        "    y_train_32 = tf.convert_to_tensor(y_train_2labels_over, dtype=tf.float32)  # Cast y_train to float32\n",
        "\n",
        "\n",
        "    return  X_train_sample_over, y_train_32, x_val_sample , y_val_2labels"
      ],
      "metadata": {
        "id": "U-cMr57XqMPT"
      },
      "execution_count": null,
      "outputs": []
    },
    {
      "cell_type": "code",
      "source": [
        "x,y,xv,yv=x_y_preprocessing(X_train,y_train,0.2)\n",
        "print(X_train.shape, x.shape, xv.shape)\n",
        "print(y_train.shape, y.shape, yv.shape)\n",
        "y_train_2labels = keras.utils.to_categorical(y_train, num_classes=6)\n",
        "\n",
        "print('y_train')\n",
        "for i in range(6):\n",
        "  print(f'Classe{i}',np.sum(y_train_2labels[:,i]),round(np.sum(y_train_2labels[:,i])/y_train_2labels.shape[0],2))\n",
        "\n",
        "print('Y_trainoversample')\n",
        "for i in range(6):\n",
        "  print(f'Classe{i}',np.sum(y[:,i]),round(np.sum(y[:,i])/y.shape[0],2))\n",
        "\n",
        "print('y_val')\n",
        "for i in range(6):\n",
        "  print(f'Classe{i}',round(np.sum(yv[:,i])/yv.shape[0],2))\n"
      ],
      "metadata": {
        "id": "f7vhF-K-vVGC"
      },
      "execution_count": null,
      "outputs": []
    },
    {
      "cell_type": "code",
      "source": [
        "X_train_sample, y_train_sample, x_val , y_val= x_y_preprocessing(X_train, y_train, 0.2)\n",
        "\n",
        "x_prediction = X_test.reshape((X_test.shape[0],28,28,3)).copy()\n",
        "x_pred = x_prediction/255\n",
        "\n",
        "from sklearn.metrics import confusion_matrix\n",
        "\n",
        "y_true = np.argmax (y_val, axis = 1)\n",
        "model=[None]*5\n",
        "model_history=[None]*5\n",
        "f1_scores=[None]*5\n",
        "y_pred_test=[None]*5\n",
        "y_pred_val=[None]*5\n",
        "results_val=[None]*5\n",
        "confusion_matrix_val=[None]*5\n",
        "\n",
        "for i in range(5):\n",
        "  print(f'Model {i+1}')\n",
        "  model[i], model_history[i], f1_scores[i] = neural_defandTrain(\"adam\", \"categorical_crossentropy\",300,256, X_train_sample, y_train_sample, True, 6,i+1, x_val , y_val)\n",
        "  y_pred_test[i] = model[i].predict(x_pred)\n",
        "  y_pred_val[i] = model[i].predict(x_val)\n",
        "\n",
        "  np.save(f'Results_modeltest{i}',y_pred_test[i])\n",
        "\n",
        "  results_val[i] = np.argmax(y_pred_val[i],1).copy()\n",
        "  confusion_matrix_val[i] = confusion_matrix(y_true, results_val[i] , normalize='pred')\n",
        "  print(confusion_matrix_val[i])\n",
        "\n",
        "\n",
        "\n",
        "\n"
      ],
      "metadata": {
        "id": "PkGnpl5rnvDb"
      },
      "execution_count": null,
      "outputs": []
    },
    {
      "cell_type": "markdown",
      "source": [
        "The results above are very long but very important - the terminal output has f1 values, balaced accuracy and loss graphs and confusion matrixes for all 5 models. These results were saved in a .pdf file that is in this project's delivery .zip file"
      ],
      "metadata": {
        "id": "X5u_tfB0CImq"
      }
    },
    {
      "cell_type": "markdown",
      "source": [
        "**Predictions**"
      ],
      "metadata": {
        "id": "jPs9tRVi09AI"
      }
    },
    {
      "cell_type": "code",
      "source": [
        "final_pred_val = (y_pred_val[0] + y_pred_val[1] + y_pred_val[2] + y_pred_val[3] + y_pred_val[4])/5\n",
        "final_pred_val_vector = np.argmax(final_pred_val,1)\n",
        "\n",
        "confusion_matrix_final = confusion_matrix(y_true, final_pred_val_vector, normalize='pred')\n",
        "print(confusion_matrix_final)"
      ],
      "metadata": {
        "colab": {
          "base_uri": "https://localhost:8080/"
        },
        "id": "oVDM9zBmxCr7",
        "outputId": "ecb02027-fe23-47ba-fb79-e8bb1f6ab6b7"
      },
      "execution_count": null,
      "outputs": [
        {
          "output_type": "stream",
          "name": "stdout",
          "text": [
            "[[0.94017094 0.38020833 0.28571429 0.         0.         0.        ]\n",
            " [0.05508072 0.59895833 0.03571429 0.0021097  0.         0.        ]\n",
            " [0.00474834 0.02083333 0.67857143 0.         0.         0.        ]\n",
            " [0.         0.         0.         0.96413502 0.04761905 0.03157895]\n",
            " [0.         0.         0.         0.01898734 0.94708995 0.02105263]\n",
            " [0.         0.         0.         0.01476793 0.00529101 0.94736842]]\n"
          ]
        }
      ]
    },
    {
      "cell_type": "code",
      "source": [
        "y_prection_onehotencoded = (y_pred_test[0] + y_pred_test[1] + y_pred_test[2] + y_pred_test[3] + y_pred_test[4])/5\n",
        "delivery_results = np.argmax(y_prection_onehotencoded,1)\n",
        "np.save('MLprediction_100123_100260_5.2',delivery_results)"
      ],
      "metadata": {
        "id": "0xaGND8PAycR"
      },
      "execution_count": null,
      "outputs": []
    },
    {
      "cell_type": "code",
      "source": [
        "a=np.load(os.path.abspath('/content/MLprediction_100123_100260_5.2.npy'))\n",
        "a.shape\n"
      ],
      "metadata": {
        "id": "edj01bjvzlMp",
        "colab": {
          "base_uri": "https://localhost:8080/"
        },
        "outputId": "8c52742a-5b77-4b98-e085-ead154bd8ac2"
      },
      "execution_count": null,
      "outputs": [
        {
          "output_type": "execute_result",
          "data": {
            "text/plain": [
              "(2658,)"
            ]
          },
          "metadata": {},
          "execution_count": 84
        }
      ]
    },
    {
      "cell_type": "code",
      "source": [
        "\n",
        "#testing oversampling\n",
        "\n",
        "X_train_sample, y_train_sample, x_val , y_val= x_y_preprocessing(X_train, y_train, 0.2)\n",
        "x_prediction = X_test.reshape((X_test.shape[0],28,28,3)).copy()\n",
        "x_pred = x_prediction/255\n",
        "from sklearn.metrics import confusion_matrix\n",
        "y_true = np.argmax (y_val, axis = 1)\n",
        "model=[None]\n",
        "model_history=[None]\n",
        "f1_scores=[None]\n",
        "y_pred_test=[None]\n",
        "y_pred_val=[None]\n",
        "results_val=[None]\n",
        "confusion_matrix_val=[None]\n",
        "i=0\n",
        "print(f'Model {i+1}')\n",
        "model, model_history, f1_scores = neural_defandTrain(\"adam\", \"categorical_crossentropy\",300,256, X_train_sample, y_train_sample, True, 6,i+1, x_val , y_val)\n",
        "y_pred_test = model.predict(x_pred)\n",
        "y_pred_val = model.predict(x_val)\n",
        "\n",
        "np.save(f'Results_modeltest{i}',y_pred_test[i])\n",
        "\n",
        "results_val = np.argmax(y_pred_val,1).copy()\n",
        "confusion_matrix_val = confusion_matrix(y_true, results_val , normalize='pred')\n",
        "print(confusion_matrix_val)"
      ],
      "metadata": {
        "id": "1APok6mRtGC1"
      },
      "execution_count": null,
      "outputs": []
    },
    {
      "cell_type": "markdown",
      "source": [],
      "metadata": {
        "id": "wSBnRtKX9HUf"
      }
    },
    {
      "cell_type": "markdown",
      "source": [
        "**Confusion Matrix**\n"
      ],
      "metadata": {
        "id": "6Nzy-kib9Hm0"
      }
    },
    {
      "cell_type": "code",
      "source": [
        "#ENSEMBLE CONFUSION MATRIX\n",
        "import seaborn as sn\n",
        "import pandas as pd\n",
        "import matplotlib.pyplot as plt\n",
        "\n",
        "array =[[0.94,0.38,0.2857,0.,0.,0.],[0.055,0.6,0.036,0.00211,0.,0.],[0.0048,0.021,0.68,0.,0.,0.],\n",
        " [0.,0.,0.,0.96,0.048,0.0316],\n",
        " [0.,0.,0.,0.019,0.95,0.0211],\n",
        " [0.,0.,0.,0.015,0.00529,0.9474]]\n",
        "\n",
        "df_cm = pd.DataFrame(array, range(6), range(6))\n",
        "# plt.figure(figsize=(10,7))\n",
        "sn.set(font_scale=1.2) # for label size\n",
        "s = sn.heatmap(df_cm, annot=True, annot_kws={\"size\": 12},cmap=\"Blues\") # font size\n",
        "s.set_ylabel('True Class', fontsize=12)\n",
        "s.set_xlabel('Predicted Class', fontsize=12)\n",
        "\n",
        "plt.show()"
      ],
      "metadata": {
        "colab": {
          "base_uri": "https://localhost:8080/",
          "height": 461
        },
        "id": "dl-Mm1tE9Pv6",
        "outputId": "c870f000-3f5d-4dbd-8acc-3318de3522ef"
      },
      "execution_count": null,
      "outputs": [
        {
          "output_type": "display_data",
          "data": {
            "text/plain": [
              "<Figure size 640x480 with 2 Axes>"
            ],
            "image/png": "[encoded data removed]"
          },
          "metadata": {}
        }
      ]
    },
    {
      "cell_type": "code",
      "source": [
        "#MODEL 1 CONFUSION MATRIX\n",
        "import seaborn as sn\n",
        "import pandas as pd\n",
        "import matplotlib.pyplot as plt\n",
        "\n",
        "array =[[0.943,0.399,0.3,0.0021,0.,0.],\n",
        " [0.053,0.58,0.0333,0.0021,0.,0.,],\n",
        " [0.00385,0.0197,0.667,0.,0.,0.],\n",
        " [0.,0.,0.,0.954,0.058,0.032],\n",
        " [0.,0.,0.,0.0231,0.94,0.022],\n",
        " [0.,0.,0.,0.019,0.0053,0.95]]\n",
        "\n",
        "\n",
        "df_cm = pd.DataFrame(array, range(6), range(6))\n",
        "# plt.figure(figsize=(10,7))\n",
        "sn.set(font_scale=1.2) # for label size\n",
        "s = sn.heatmap(df_cm, annot=True, annot_kws={\"size\": 12},cmap=\"Blues\") # font size\n",
        "s.set_ylabel('True Class', fontsize=12)\n",
        "s.set_xlabel('Predicted Class', fontsize=12)\n",
        "\n",
        "plt.show()"
      ],
      "metadata": {
        "colab": {
          "base_uri": "https://localhost:8080/",
          "height": 461
        },
        "id": "H7SM2preEo74",
        "outputId": "d0e5bd84-8660-497e-aa13-a44455f36c9d"
      },
      "execution_count": null,
      "outputs": [
        {
          "output_type": "display_data",
          "data": {
            "text/plain": [
              "<Figure size 640x480 with 2 Axes>"
            ],
            "image/png": "[encoded data removed]"
          },
          "metadata": {}
        }
      ]
    }
  ]
}